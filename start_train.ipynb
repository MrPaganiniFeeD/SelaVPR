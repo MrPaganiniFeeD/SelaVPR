{
 "cells": [
  {
   "cell_type": "code",
   "execution_count": null,
   "metadata": {},
   "outputs": [],
   "source": [
    "!pip install -r requirements.txt\n",
    "\n",
    "!pip install xformers || true"
   ]
  },
  {
   "cell_type": "code",
   "execution_count": null,
   "metadata": {},
   "outputs": [],
   "source": [
    "!pip install torch==2.6.0 torchvision==0.21.0 torchaudio==2.6.0 fastai==2.7.19"
   ]
  },
  {
   "cell_type": "code",
   "execution_count": null,
   "metadata": {},
   "outputs": [],
   "source": [
    "python create_subset.py --datasets-folder datasets_vg/datasets/ --dataset pitts30k --split all --out-name pitts30k_small --db-size 1000 --q-size 1000 --method random --use-symlinks"
   ]
  },
  {
   "cell_type": "code",
   "execution_count": null,
   "metadata": {},
   "outputs": [],
   "source": [
    "python train.py --train_batch_size 8 --infer_batch_size 8 --epochs_num 1 --device cpu --datasets_folder \"C:\\Users\\Егор\\VsCode project\\SelaVPR\\datasets_vg\\datasets\" --foundation_model_path \"C:/Users/Егор/VsCode project/SelaVPR/models/dinov2_vitl14_pretrain.pth\" --dataset_name pitts30k_small --save_dir \"C:/Users/Егор/VsCode project/logs_pitts30k_test\" --num_workers 0"
   ]
  },
  {
   "cell_type": "code",
   "execution_count": null,
   "metadata": {},
   "outputs": [],
   "source": [
    "!python visual.py --datasets_folder=\"C:\\Users\\Егор\\VsCode project\\SelaVPR\\image\\img_pair\\img1.jpg\" --resume=\"models/SelaVPR_pitts30k.pth\" --device=\"cpu\""
   ]
  },
  {
   "cell_type": "code",
   "execution_count": null,
   "metadata": {},
   "outputs": [],
   "source": [
    "!python eval.py --datasets_folder=\"datasets_vg\" --dataset_name=pitts30k --resume=\"models/SelaVPR_pitts30k.pth\" --rerank_num=10 --device=\"cpu\""
   ]
  }
 ],
 "metadata": {
  "kernelspec": {
   "display_name": "venv",
   "language": "python",
   "name": "python3"
  },
  "language_info": {
   "codemirror_mode": {
    "name": "ipython",
    "version": 3
   },
   "file_extension": ".py",
   "mimetype": "text/x-python",
   "name": "python",
   "nbconvert_exporter": "python",
   "pygments_lexer": "ipython3",
   "version": "3.12.5"
  }
 },
 "nbformat": 4,
 "nbformat_minor": 2
}
