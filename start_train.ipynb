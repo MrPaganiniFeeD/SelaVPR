{
 "cells": [
  {
   "cell_type": "code",
   "execution_count": 12,
   "metadata": {},
   "outputs": [
    {
     "name": "stdout",
     "output_type": "stream",
     "text": [
      "Looking in links: https://download.pytorch.org/whl/torch_stable.html\n",
      "Collecting torch==2.2.2+cu118\n",
      "  Using cached https://download.pytorch.org/whl/cu118/torch-2.2.2%2Bcu118-cp312-cp312-win_amd64.whl (2704.2 MB)\n",
      "Collecting filelock (from torch==2.2.2+cu118)\n",
      "  Using cached filelock-3.19.1-py3-none-any.whl.metadata (2.1 kB)\n",
      "Collecting typing-extensions>=4.8.0 (from torch==2.2.2+cu118)\n",
      "  Using cached typing_extensions-4.15.0-py3-none-any.whl.metadata (3.3 kB)\n",
      "Collecting sympy (from torch==2.2.2+cu118)\n",
      "  Using cached sympy-1.14.0-py3-none-any.whl.metadata (12 kB)\n",
      "Collecting networkx (from torch==2.2.2+cu118)\n",
      "  Using cached networkx-3.5-py3-none-any.whl.metadata (6.3 kB)\n",
      "Collecting jinja2 (from torch==2.2.2+cu118)\n",
      "  Using cached jinja2-3.1.6-py3-none-any.whl.metadata (2.9 kB)\n",
      "Collecting fsspec (from torch==2.2.2+cu118)\n",
      "  Using cached fsspec-2025.9.0-py3-none-any.whl.metadata (10 kB)\n",
      "Collecting MarkupSafe>=2.0 (from jinja2->torch==2.2.2+cu118)\n",
      "  Using cached MarkupSafe-3.0.2-cp312-cp312-win_amd64.whl.metadata (4.1 kB)\n",
      "Collecting mpmath<1.4,>=1.1.0 (from sympy->torch==2.2.2+cu118)\n",
      "  Using cached mpmath-1.3.0-py3-none-any.whl.metadata (8.6 kB)\n",
      "Using cached typing_extensions-4.15.0-py3-none-any.whl (44 kB)\n",
      "Using cached filelock-3.19.1-py3-none-any.whl (15 kB)\n",
      "Using cached fsspec-2025.9.0-py3-none-any.whl (199 kB)\n",
      "Using cached jinja2-3.1.6-py3-none-any.whl (134 kB)\n",
      "Using cached networkx-3.5-py3-none-any.whl (2.0 MB)\n",
      "Using cached sympy-1.14.0-py3-none-any.whl (6.3 MB)\n",
      "Using cached MarkupSafe-3.0.2-cp312-cp312-win_amd64.whl (15 kB)\n",
      "Using cached mpmath-1.3.0-py3-none-any.whl (536 kB)\n",
      "Installing collected packages: mpmath, typing-extensions, sympy, networkx, MarkupSafe, fsspec, filelock, jinja2, torch\n",
      "Successfully installed MarkupSafe-3.0.2 filelock-3.19.1 fsspec-2025.9.0 jinja2-3.1.6 mpmath-1.3.0 networkx-3.5 sympy-1.14.0 torch-2.2.2+cu118 typing-extensions-4.15.0\n",
      "Note: you may need to restart the kernel to use updated packages.\n"
     ]
    },
    {
     "name": "stderr",
     "output_type": "stream",
     "text": [
      "\n",
      "[notice] A new release of pip is available: 24.2 -> 25.2\n",
      "[notice] To update, run: python.exe -m pip install --upgrade pip\n"
     ]
    }
   ],
   "source": [
    "pip install torch==2.2.2+cu118 -f https://download.pytorch.org/whl/torch_stable.html"
   ]
  },
  {
   "cell_type": "code",
   "execution_count": 13,
   "metadata": {},
   "outputs": [
    {
     "name": "stdout",
     "output_type": "stream",
     "text": [
      "Collecting torchvision==0.17.2\n",
      "  Using cached torchvision-0.17.2-cp312-cp312-win_amd64.whl.metadata (6.6 kB)\n",
      "Collecting torchaudio==2.2.2\n",
      "  Using cached torchaudio-2.2.2-cp312-cp312-win_amd64.whl.metadata (6.4 kB)\n",
      "Collecting faiss-cpu==1.12.0\n",
      "  Using cached faiss_cpu-1.12.0-cp312-cp312-win_amd64.whl.metadata (5.2 kB)\n",
      "Collecting tqdm==4.66.1\n",
      "  Using cached tqdm-4.66.1-py3-none-any.whl.metadata (57 kB)\n",
      "Collecting pillow==10.0.1\n",
      "  Using cached Pillow-10.0.1-cp312-cp312-win_amd64.whl.metadata (9.6 kB)\n",
      "Collecting scikit-learn==1.7.0\n",
      "  Using cached scikit_learn-1.7.0-cp312-cp312-win_amd64.whl.metadata (14 kB)\n",
      "Collecting numpy==1.26.0\n",
      "  Using cached numpy-1.26.0-cp312-cp312-win_amd64.whl.metadata (61 kB)\n",
      "Collecting requests==2.31.0\n",
      "  Using cached requests-2.31.0-py3-none-any.whl.metadata (4.6 kB)\n",
      "Collecting einops==0.6.1\n",
      "  Using cached einops-0.6.1-py3-none-any.whl.metadata (12 kB)\n",
      "Requirement already satisfied: torch==2.2.2 in c:\\users\\егор\\vscode project\\selavpr\\venv\\lib\\site-packages (from torchvision==0.17.2) (2.2.2+cu118)\n",
      "Requirement already satisfied: packaging in c:\\users\\егор\\vscode project\\selavpr\\venv\\lib\\site-packages (from faiss-cpu==1.12.0) (25.0)\n",
      "Requirement already satisfied: colorama in c:\\users\\егор\\vscode project\\selavpr\\venv\\lib\\site-packages (from tqdm==4.66.1) (0.4.6)\n",
      "Collecting scipy>=1.8.0 (from scikit-learn==1.7.0)\n",
      "  Using cached scipy-1.16.2-cp312-cp312-win_amd64.whl.metadata (60 kB)\n",
      "Collecting joblib>=1.2.0 (from scikit-learn==1.7.0)\n",
      "  Using cached joblib-1.5.2-py3-none-any.whl.metadata (5.6 kB)\n",
      "Collecting threadpoolctl>=3.1.0 (from scikit-learn==1.7.0)\n",
      "  Using cached threadpoolctl-3.6.0-py3-none-any.whl.metadata (13 kB)\n",
      "Requirement already satisfied: charset-normalizer<4,>=2 in c:\\users\\егор\\vscode project\\selavpr\\venv\\lib\\site-packages (from requests==2.31.0) (3.4.3)\n",
      "Requirement already satisfied: idna<4,>=2.5 in c:\\users\\егор\\vscode project\\selavpr\\venv\\lib\\site-packages (from requests==2.31.0) (3.10)\n",
      "Requirement already satisfied: urllib3<3,>=1.21.1 in c:\\users\\егор\\vscode project\\selavpr\\venv\\lib\\site-packages (from requests==2.31.0) (2.5.0)\n",
      "Requirement already satisfied: certifi>=2017.4.17 in c:\\users\\егор\\vscode project\\selavpr\\venv\\lib\\site-packages (from requests==2.31.0) (2025.8.3)\n",
      "Requirement already satisfied: filelock in c:\\users\\егор\\vscode project\\selavpr\\venv\\lib\\site-packages (from torch==2.2.2->torchvision==0.17.2) (3.19.1)\n",
      "Requirement already satisfied: typing-extensions>=4.8.0 in c:\\users\\егор\\vscode project\\selavpr\\venv\\lib\\site-packages (from torch==2.2.2->torchvision==0.17.2) (4.15.0)\n",
      "Requirement already satisfied: sympy in c:\\users\\егор\\vscode project\\selavpr\\venv\\lib\\site-packages (from torch==2.2.2->torchvision==0.17.2) (1.14.0)\n",
      "Requirement already satisfied: networkx in c:\\users\\егор\\vscode project\\selavpr\\venv\\lib\\site-packages (from torch==2.2.2->torchvision==0.17.2) (3.5)\n",
      "Requirement already satisfied: jinja2 in c:\\users\\егор\\vscode project\\selavpr\\venv\\lib\\site-packages (from torch==2.2.2->torchvision==0.17.2) (3.1.6)\n",
      "Requirement already satisfied: fsspec in c:\\users\\егор\\vscode project\\selavpr\\venv\\lib\\site-packages (from torch==2.2.2->torchvision==0.17.2) (2025.9.0)\n",
      "Requirement already satisfied: MarkupSafe>=2.0 in c:\\users\\егор\\vscode project\\selavpr\\venv\\lib\\site-packages (from jinja2->torch==2.2.2->torchvision==0.17.2) (3.0.2)\n",
      "Requirement already satisfied: mpmath<1.4,>=1.1.0 in c:\\users\\егор\\vscode project\\selavpr\\venv\\lib\\site-packages (from sympy->torch==2.2.2->torchvision==0.17.2) (1.3.0)\n",
      "Using cached torchvision-0.17.2-cp312-cp312-win_amd64.whl (1.2 MB)\n",
      "Using cached torchaudio-2.2.2-cp312-cp312-win_amd64.whl (2.4 MB)\n",
      "Using cached faiss_cpu-1.12.0-cp312-cp312-win_amd64.whl (18.2 MB)\n",
      "Using cached tqdm-4.66.1-py3-none-any.whl (78 kB)\n",
      "Using cached Pillow-10.0.1-cp312-cp312-win_amd64.whl (2.5 MB)\n",
      "Using cached scikit_learn-1.7.0-cp312-cp312-win_amd64.whl (10.7 MB)\n",
      "Using cached numpy-1.26.0-cp312-cp312-win_amd64.whl (15.5 MB)\n",
      "Using cached requests-2.31.0-py3-none-any.whl (62 kB)\n",
      "Using cached einops-0.6.1-py3-none-any.whl (42 kB)\n",
      "Using cached joblib-1.5.2-py3-none-any.whl (308 kB)\n",
      "Using cached scipy-1.16.2-cp312-cp312-win_amd64.whl (38.6 MB)\n",
      "Using cached threadpoolctl-3.6.0-py3-none-any.whl (18 kB)\n",
      "Installing collected packages: tqdm, threadpoolctl, requests, pillow, numpy, joblib, einops, scipy, faiss-cpu, torchvision, torchaudio, scikit-learn\n",
      "  Attempting uninstall: tqdm\n",
      "    Found existing installation: tqdm 4.67.1\n",
      "    Uninstalling tqdm-4.67.1:\n",
      "      Successfully uninstalled tqdm-4.67.1\n",
      "  Attempting uninstall: requests\n",
      "    Found existing installation: requests 2.32.5\n",
      "    Uninstalling requests-2.32.5:\n",
      "      Successfully uninstalled requests-2.32.5\n",
      "  Attempting uninstall: pillow\n",
      "    Found existing installation: pillow 11.3.0\n",
      "    Uninstalling pillow-11.3.0:\n",
      "      Successfully uninstalled pillow-11.3.0\n",
      "  Attempting uninstall: numpy\n",
      "    Found existing installation: numpy 2.2.6\n",
      "    Uninstalling numpy-2.2.6:\n",
      "      Successfully uninstalled numpy-2.2.6\n",
      "Successfully installed einops-0.6.1 faiss-cpu-1.12.0 joblib-1.5.2 numpy-1.26.0 pillow-10.0.1 requests-2.31.0 scikit-learn-1.7.0 scipy-1.16.2 threadpoolctl-3.6.0 torchaudio-2.2.2 torchvision-0.17.2 tqdm-4.66.1\n",
      "Note: you may need to restart the kernel to use updated packages.\n"
     ]
    },
    {
     "name": "stderr",
     "output_type": "stream",
     "text": [
      "ERROR: pip's dependency resolver does not currently take into account all the packages that are installed. This behaviour is the source of the following dependency conflicts.\n",
      "opencv-python 4.12.0.88 requires numpy<2.3.0,>=2; python_version >= \"3.9\", but you have numpy 1.26.0 which is incompatible.\n",
      "\n",
      "[notice] A new release of pip is available: 24.2 -> 25.2\n",
      "[notice] To update, run: python.exe -m pip install --upgrade pip\n"
     ]
    }
   ],
   "source": [
    "pip install torchvision==0.17.2 torchaudio==2.2.2 faiss-cpu==1.12.0 tqdm==4.66.1 pillow==10.0.1 scikit-learn==1.7.0 numpy==1.26.0 requests==2.31.0 einops==0.6.1"
   ]
  },
  {
   "cell_type": "code",
   "execution_count": null,
   "metadata": {},
   "outputs": [],
   "source": [
    "pip install opencv-python"
   ]
  },
  {
   "cell_type": "code",
   "execution_count": null,
   "metadata": {},
   "outputs": [],
   "source": [
    "!pip install numpy==1.26.0"
   ]
  },
  {
   "cell_type": "code",
   "execution_count": null,
   "metadata": {},
   "outputs": [],
   "source": [
    "!pip uninstall numpy"
   ]
  },
  {
   "cell_type": "code",
   "execution_count": 18,
   "metadata": {},
   "outputs": [
    {
     "name": "stdout",
     "output_type": "stream",
     "text": [
      "Found existing installation: faiss-cpu 1.8.0\n",
      "Uninstalling faiss-cpu-1.8.0:\n",
      "  Successfully uninstalled faiss-cpu-1.8.0\n",
      "Found existing installation: numpy 1.26.0\n",
      "Uninstalling numpy-1.26.0:\n",
      "  Successfully uninstalled numpy-1.26.0\n",
      "Collecting numpy==1.26.0\n",
      "  Using cached numpy-1.26.0-cp312-cp312-win_amd64.whl.metadata (61 kB)\n",
      "Using cached numpy-1.26.0-cp312-cp312-win_amd64.whl (15.5 MB)\n",
      "Installing collected packages: numpy\n",
      "Successfully installed numpy-1.26.0\n"
     ]
    },
    {
     "name": "stderr",
     "output_type": "stream",
     "text": [
      "ERROR: pip's dependency resolver does not currently take into account all the packages that are installed. This behaviour is the source of the following dependency conflicts.\n",
      "opencv-python 4.12.0.88 requires numpy<2.3.0,>=2; python_version >= \"3.9\", but you have numpy 1.26.0 which is incompatible.\n",
      "rerun-sdk 0.25.1 requires numpy>=2, but you have numpy 1.26.0 which is incompatible.\n",
      "\n",
      "[notice] A new release of pip is available: 24.2 -> 25.2\n",
      "[notice] To update, run: python.exe -m pip install --upgrade pip\n"
     ]
    },
    {
     "name": "stdout",
     "output_type": "stream",
     "text": [
      "Collecting faiss-cpu==1.8.0\n",
      "  Using cached faiss_cpu-1.8.0-cp312-cp312-win_amd64.whl.metadata (3.8 kB)\n",
      "Requirement already satisfied: numpy in c:\\users\\егор\\vscode project\\selavpr\\venv\\lib\\site-packages (from faiss-cpu==1.8.0) (1.26.0)\n",
      "Using cached faiss_cpu-1.8.0-cp312-cp312-win_amd64.whl (14.5 MB)\n",
      "Installing collected packages: faiss-cpu\n",
      "Successfully installed faiss-cpu-1.8.0\n"
     ]
    },
    {
     "name": "stderr",
     "output_type": "stream",
     "text": [
      "\n",
      "[notice] A new release of pip is available: 24.2 -> 25.2\n",
      "[notice] To update, run: python.exe -m pip install --upgrade pip\n"
     ]
    }
   ],
   "source": [
    "!pip uninstall faiss-cpu numpy -y\n",
    "!pip install numpy==1.26.0\n",
    "!pip install faiss-cpu==1.8.0\n"
   ]
  },
  {
   "cell_type": "code",
   "execution_count": 16,
   "metadata": {},
   "outputs": [
    {
     "name": "stdout",
     "output_type": "stream",
     "text": [
      "Found existing installation: faiss-cpu 1.12.0\n",
      "Uninstalling faiss-cpu-1.12.0:\n",
      "  Successfully uninstalled faiss-cpu-1.12.0\n",
      "Found existing installation: numpy 2.3.3\n",
      "Uninstalling numpy-2.3.3:\n",
      "  Successfully uninstalled numpy-2.3.3\n",
      "Collecting numpy==1.24.3\n",
      "  Using cached numpy-1.24.3.tar.gz (10.9 MB)\n",
      "  Installing build dependencies: started\n",
      "  Installing build dependencies: finished with status 'done'\n",
      "  Getting requirements to build wheel: started\n",
      "  Getting requirements to build wheel: finished with status 'error'\n"
     ]
    },
    {
     "name": "stderr",
     "output_type": "stream",
     "text": [
      "  error: subprocess-exited-with-error\n",
      "  \n",
      "  × Getting requirements to build wheel did not run successfully.\n",
      "  │ exit code: 1\n",
      "  ╰─> [33 lines of output]\n",
      "      Traceback (most recent call last):\n",
      "        File \"C:\\Users\\Р•РіРѕСЂ\\VsCode project\\SelaVPR\\venv\\Lib\\site-packages\\pip\\_vendor\\pyproject_hooks\\_in_process\\_in_process.py\", line 353, in <module>\n",
      "          main()\n",
      "        File \"C:\\Users\\Р•РіРѕСЂ\\VsCode project\\SelaVPR\\venv\\Lib\\site-packages\\pip\\_vendor\\pyproject_hooks\\_in_process\\_in_process.py\", line 335, in main\n",
      "          json_out['return_val'] = hook(**hook_input['kwargs'])\n",
      "                                   ^^^^^^^^^^^^^^^^^^^^^^^^^^^^\n",
      "        File \"C:\\Users\\Р•РіРѕСЂ\\VsCode project\\SelaVPR\\venv\\Lib\\site-packages\\pip\\_vendor\\pyproject_hooks\\_in_process\\_in_process.py\", line 112, in get_requires_for_build_wheel\n",
      "          backend = _build_backend()\n",
      "                    ^^^^^^^^^^^^^^^^\n",
      "        File \"C:\\Users\\Р•РіРѕСЂ\\VsCode project\\SelaVPR\\venv\\Lib\\site-packages\\pip\\_vendor\\pyproject_hooks\\_in_process\\_in_process.py\", line 77, in _build_backend\n",
      "          obj = import_module(mod_path)\n",
      "                ^^^^^^^^^^^^^^^^^^^^^^^\n",
      "        File \"C:\\Users\\Р•РіРѕСЂ\\AppData\\Local\\Programs\\Python\\Python312\\Lib\\importlib\\__init__.py\", line 90, in import_module\n",
      "          return _bootstrap._gcd_import(name[level:], package, level)\n",
      "                 ^^^^^^^^^^^^^^^^^^^^^^^^^^^^^^^^^^^^^^^^^^^^^^^^^^^^\n",
      "        File \"<frozen importlib._bootstrap>\", line 1387, in _gcd_import\n",
      "        File \"<frozen importlib._bootstrap>\", line 1360, in _find_and_load\n",
      "        File \"<frozen importlib._bootstrap>\", line 1310, in _find_and_load_unlocked\n",
      "        File \"<frozen importlib._bootstrap>\", line 488, in _call_with_frames_removed\n",
      "        File \"<frozen importlib._bootstrap>\", line 1387, in _gcd_import\n",
      "        File \"<frozen importlib._bootstrap>\", line 1360, in _find_and_load\n",
      "        File \"<frozen importlib._bootstrap>\", line 1331, in _find_and_load_unlocked\n",
      "        File \"<frozen importlib._bootstrap>\", line 935, in _load_unlocked\n",
      "        File \"<frozen importlib._bootstrap_external>\", line 995, in exec_module\n",
      "        File \"<frozen importlib._bootstrap>\", line 488, in _call_with_frames_removed\n",
      "        File \"C:\\Users\\Р•РіРѕСЂ\\AppData\\Local\\Temp\\pip-build-env-9t8owisx\\overlay\\Lib\\site-packages\\setuptools\\__init__.py\", line 16, in <module>\n",
      "          import setuptools.version\n",
      "        File \"C:\\Users\\Р•РіРѕСЂ\\AppData\\Local\\Temp\\pip-build-env-9t8owisx\\overlay\\Lib\\site-packages\\setuptools\\version.py\", line 1, in <module>\n",
      "          import pkg_resources\n",
      "        File \"C:\\Users\\Р•РіРѕСЂ\\AppData\\Local\\Temp\\pip-build-env-9t8owisx\\overlay\\Lib\\site-packages\\pkg_resources\\__init__.py\", line 2172, in <module>\n",
      "          register_finder(pkgutil.ImpImporter, find_on_path)\n",
      "                          ^^^^^^^^^^^^^^^^^^^\n",
      "      AttributeError: module 'pkgutil' has no attribute 'ImpImporter'. Did you mean: 'zipimporter'?\n",
      "      [end of output]\n",
      "  \n",
      "  note: This error originates from a subprocess, and is likely not a problem with pip.\n",
      "\n",
      "[notice] A new release of pip is available: 24.2 -> 25.2\n",
      "[notice] To update, run: python.exe -m pip install --upgrade pip\n",
      "error: subprocess-exited-with-error\n",
      "\n",
      "× Getting requirements to build wheel did not run successfully.\n",
      "│ exit code: 1\n",
      "╰─> See above for output.\n",
      "\n",
      "note: This error originates from a subprocess, and is likely not a problem with pip.\n",
      "ERROR: Could not find a version that satisfies the requirement faiss-cpu==1.7.4 (from versions: 1.8.0, 1.8.0.post1, 1.9.0, 1.9.0.post1, 1.10.0, 1.11.0, 1.11.0.post1, 1.12.0)\n",
      "\n",
      "[notice] A new release of pip is available: 24.2 -> 25.2\n",
      "[notice] To update, run: python.exe -m pip install --upgrade pip\n",
      "ERROR: No matching distribution found for faiss-cpu==1.7.4\n"
     ]
    }
   ],
   "source": [
    "!pip uninstall faiss-cpu numpy -y\n",
    "!pip install numpy==1.24.3\n",
    "!pip install faiss-cpu==1.7.4"
   ]
  },
  {
   "cell_type": "code",
   "execution_count": 13,
   "metadata": {},
   "outputs": [
    {
     "ename": "SyntaxError",
     "evalue": "invalid syntax (3378433938.py, line 1)",
     "output_type": "error",
     "traceback": [
      "  \u001b[36mCell\u001b[39m\u001b[36m \u001b[39m\u001b[32mIn[13]\u001b[39m\u001b[32m, line 1\u001b[39m\n\u001b[31m    \u001b[39m\u001b[31mpython create_subset.py --datasets-folder datasets_vg/datasets/ --dataset pitts30k --split all --out-name pitts30k_small --db-size 1000 --q-size 1000 --method random --use-symlinks\u001b[39m\n           ^\n\u001b[31mSyntaxError\u001b[39m\u001b[31m:\u001b[39m invalid syntax\n"
     ]
    }
   ],
   "source": [
    "python create_subset.py --datasets-folder datasets_vg/datasets/ --dataset pitts30k --split all --out-name pitts30k_small --db-size 1000 --q-size 1000 --method random --use-symlinks\n"
   ]
  },
  {
   "cell_type": "code",
   "execution_count": 14,
   "metadata": {},
   "outputs": [
    {
     "ename": "SyntaxError",
     "evalue": "invalid syntax (2454376365.py, line 1)",
     "output_type": "error",
     "traceback": [
      "  \u001b[36mCell\u001b[39m\u001b[36m \u001b[39m\u001b[32mIn[14]\u001b[39m\u001b[32m, line 1\u001b[39m\n\u001b[31m    \u001b[39m\u001b[31mpython train.py --train_batch_size 8 --infer_batch_size 8 --epochs_num 1 --device cpu --datasets_folder \"C:\\Users\\Егор\\VsCode project\\SelaVPR\\datasets_vg\\datasets\" --foundation_model_path \"C:/Users/Егор/VsCode project/SelaVPR/models/dinov2_vitl14_pretrain.pth\" --dataset_name pitts30k_small --save_dir \"C:/Users/Егор/VsCode project/logs_pitts30k_test\" --num_workers 0\u001b[39m\n           ^\n\u001b[31mSyntaxError\u001b[39m\u001b[31m:\u001b[39m invalid syntax\n"
     ]
    }
   ],
   "source": [
    "python train.py --train_batch_size 8 --infer_batch_size 8 --epochs_num 1 --device cpu --datasets_folder \"C:\\Users\\Егор\\VsCode project\\SelaVPR\\datasets_vg\\datasets\" --foundation_model_path \"C:/Users/Егор/VsCode project/SelaVPR/models/dinov2_vitl14_pretrain.pth\" --dataset_name pitts30k_small --save_dir \"C:/Users/Егор/VsCode project/logs_pitts30k_test\" --num_workers 0"
   ]
  },
  {
   "cell_type": "code",
   "execution_count": 9,
   "metadata": {},
   "outputs": [
    {
     "name": "stdout",
     "output_type": "stream",
     "text": [
      "Requirement already satisfied: matplotlib in c:\\users\\егор\\vscode project\\selavpr\\venv\\lib\\site-packages (3.10.6)\n",
      "Requirement already satisfied: opencv-python in c:\\users\\егор\\vscode project\\selavpr\\venv\\lib\\site-packages (4.12.0.88)\n",
      "Collecting importlib\n",
      "  Downloading importlib-1.0.4.zip (7.1 kB)\n",
      "  Installing build dependencies: started\n",
      "  Installing build dependencies: finished with status 'done'\n",
      "  Getting requirements to build wheel: started\n",
      "  Getting requirements to build wheel: finished with status 'done'\n",
      "  Preparing metadata (pyproject.toml): started\n",
      "  Preparing metadata (pyproject.toml): finished with status 'done'\n",
      "Requirement already satisfied: contourpy>=1.0.1 in c:\\users\\егор\\vscode project\\selavpr\\venv\\lib\\site-packages (from matplotlib) (1.3.3)\n",
      "Requirement already satisfied: cycler>=0.10 in c:\\users\\егор\\vscode project\\selavpr\\venv\\lib\\site-packages (from matplotlib) (0.12.1)\n",
      "Requirement already satisfied: fonttools>=4.22.0 in c:\\users\\егор\\vscode project\\selavpr\\venv\\lib\\site-packages (from matplotlib) (4.60.0)\n",
      "Requirement already satisfied: kiwisolver>=1.3.1 in c:\\users\\егор\\vscode project\\selavpr\\venv\\lib\\site-packages (from matplotlib) (1.4.9)\n",
      "Requirement already satisfied: numpy>=1.23 in c:\\users\\егор\\vscode project\\selavpr\\venv\\lib\\site-packages (from matplotlib) (2.2.6)\n",
      "Requirement already satisfied: packaging>=20.0 in c:\\users\\егор\\vscode project\\selavpr\\venv\\lib\\site-packages (from matplotlib) (25.0)\n",
      "Requirement already satisfied: pillow>=8 in c:\\users\\егор\\vscode project\\selavpr\\venv\\lib\\site-packages (from matplotlib) (11.3.0)\n",
      "Requirement already satisfied: pyparsing>=2.3.1 in c:\\users\\егор\\vscode project\\selavpr\\venv\\lib\\site-packages (from matplotlib) (3.2.4)\n",
      "Requirement already satisfied: python-dateutil>=2.7 in c:\\users\\егор\\vscode project\\selavpr\\venv\\lib\\site-packages (from matplotlib) (2.9.0.post0)\n",
      "Requirement already satisfied: six>=1.5 in c:\\users\\егор\\vscode project\\selavpr\\venv\\lib\\site-packages (from python-dateutil>=2.7->matplotlib) (1.17.0)\n",
      "Building wheels for collected packages: importlib\n",
      "  Building wheel for importlib (pyproject.toml): started\n",
      "  Building wheel for importlib (pyproject.toml): finished with status 'done'\n",
      "  Created wheel for importlib: filename=importlib-1.0.4-py3-none-any.whl size=5937 sha256=1525ecc28909162713a5ef096c580631b2b098fdfa65c37cf16c819aaff6162c\n",
      "  Stored in directory: c:\\users\\егор\\appdata\\local\\pip\\cache\\wheels\\40\\41\\c4\\d925a53b7b7e75a65369e1b17f7bade00d7907ac5a7d74dc5f\n",
      "Successfully built importlib\n",
      "Installing collected packages: importlib\n",
      "Successfully installed importlib-1.0.4\n",
      "Note: you may need to restart the kernel to use updated packages.\n"
     ]
    },
    {
     "name": "stderr",
     "output_type": "stream",
     "text": [
      "\n",
      "[notice] A new release of pip is available: 24.2 -> 25.2\n",
      "[notice] To update, run: python.exe -m pip install --upgrade pip\n"
     ]
    }
   ],
   "source": [
    "pip install matplotlib opencv-python importlib"
   ]
  },
  {
   "cell_type": "code",
   "execution_count": 20,
   "metadata": {},
   "outputs": [],
   "source": [
    "!python visual.py --datasets_folder=\"models/dinov2_vitl14_pretrain.pth\" --resume=\"models/kaggle/working/sela_output/2025-09-20_07-55-58/best_model.pth\" --device=\"cpu\""
   ]
  },
  {
   "cell_type": "code",
   "execution_count": 14,
   "metadata": {},
   "outputs": [
    {
     "name": "stdout",
     "output_type": "stream",
     "text": [
      "Requirement already satisfied: rerun-sdk in c:\\users\\егор\\vscode project\\selavpr\\venv\\lib\\site-packages (0.25.1)\n",
      "Requirement already satisfied: attrs>=23.1.0 in c:\\users\\егор\\vscode project\\selavpr\\venv\\lib\\site-packages (from rerun-sdk) (25.3.0)\n",
      "Requirement already satisfied: numpy>=2 in c:\\users\\егор\\vscode project\\selavpr\\venv\\lib\\site-packages (from rerun-sdk) (2.3.3)\n",
      "Requirement already satisfied: pillow>=8.0.0 in c:\\users\\егор\\vscode project\\selavpr\\venv\\lib\\site-packages (from rerun-sdk) (10.0.1)\n",
      "Requirement already satisfied: pyarrow>=18.0.0 in c:\\users\\егор\\vscode project\\selavpr\\venv\\lib\\site-packages (from rerun-sdk) (21.0.0)\n",
      "Requirement already satisfied: typing-extensions>=4.5 in c:\\users\\егор\\vscode project\\selavpr\\venv\\lib\\site-packages (from rerun-sdk) (4.15.0)\n"
     ]
    },
    {
     "name": "stderr",
     "output_type": "stream",
     "text": [
      "\n",
      "[notice] A new release of pip is available: 24.2 -> 25.2\n",
      "[notice] To update, run: python.exe -m pip install --upgrade pip\n"
     ]
    }
   ],
   "source": [
    "!pip install rerun-sdk"
   ]
  },
  {
   "cell_type": "code",
   "execution_count": null,
   "metadata": {},
   "outputs": [],
   "source": []
  }
 ],
 "metadata": {
  "kernelspec": {
   "display_name": "venv",
   "language": "python",
   "name": "python3"
  },
  "language_info": {
   "codemirror_mode": {
    "name": "ipython",
    "version": 3
   },
   "file_extension": ".py",
   "mimetype": "text/x-python",
   "name": "python",
   "nbconvert_exporter": "python",
   "pygments_lexer": "ipython3",
   "version": "3.12.5"
  }
 },
 "nbformat": 4,
 "nbformat_minor": 2
}
